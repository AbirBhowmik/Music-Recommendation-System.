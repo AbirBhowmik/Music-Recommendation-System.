{
 "cells": [
  {
   "cell_type": "markdown",
   "id": "62245800",
   "metadata": {},
   "source": [
    "# MUSIC RECOMMENDATON SYSTEM "
   ]
  },
  {
   "cell_type": "markdown",
   "id": "cbf97440",
   "metadata": {},
   "source": [
    "# PROCEDURE :-"
   ]
  },
  {
   "cell_type": "markdown",
   "id": "d6dfc4ce",
   "metadata": {},
   "source": [
    " 1) Download music Dataset from kaggle"
   ]
  },
  {
   "cell_type": "markdown",
   "id": "bf33b1d8",
   "metadata": {},
   "source": [
    "2) Add numpy,pandas "
   ]
  },
  {
   "cell_type": "markdown",
   "id": "030b6cb4",
   "metadata": {},
   "source": [
    "3) Find null value"
   ]
  },
  {
   "cell_type": "markdown",
   "id": "dc06dd0a",
   "metadata": {},
   "source": [
    "4) Create a new column 'tags' with 'Movie','Music director','Song type','Singer type','Singers' columns"
   ]
  },
  {
   "cell_type": "markdown",
   "id": "a06d404c",
   "metadata": {},
   "source": [
    "5) Drop the another columns"
   ]
  },
  {
   "cell_type": "markdown",
   "id": "3ac872ce",
   "metadata": {},
   "source": [
    "6)convert lower case using lambda function"
   ]
  },
  {
   "cell_type": "markdown",
   "id": "ba4eb62d",
   "metadata": {},
   "source": [
    "7) Add CountVectorizer feature from Sklearn"
   ]
  },
  {
   "cell_type": "markdown",
   "id": "6d4b259f",
   "metadata": {},
   "source": [
    "8) Convert all textual information from vector using CountVectorizer"
   ]
  },
  {
   "cell_type": "markdown",
   "id": "f934f1af",
   "metadata": {},
   "source": [
    "9) Add cosine_similarity feature form Sklearn"
   ]
  },
  {
   "cell_type": "markdown",
   "id": "76e7223a",
   "metadata": {},
   "source": [
    "10) Calculate Similarity using cosine_similarity"
   ]
  },
  {
   "cell_type": "markdown",
   "id": "4226c19e",
   "metadata": {},
   "source": [
    "11) Calculate the distance 'Song name' from 'tags' each word"
   ]
  },
  {
   "cell_type": "markdown",
   "id": "5cbf7292",
   "metadata": {},
   "source": [
    "12) sorting Smilarity"
   ]
  },
  {
   "cell_type": "markdown",
   "id": "9f38edd5",
   "metadata": {},
   "source": [
    "13) create recommend function sorting for more similar song"
   ]
  },
  {
   "cell_type": "markdown",
   "id": "790b559a",
   "metadata": {},
   "source": [
    "14) Final Output:-"
   ]
  },
  {
   "cell_type": "code",
   "execution_count": null,
   "id": "04f857db",
   "metadata": {},
   "outputs": [],
   "source": []
  },
  {
   "cell_type": "code",
   "execution_count": 1,
   "id": "2de706a5",
   "metadata": {},
   "outputs": [],
   "source": [
    "import pandas as pd\n",
    "import numpy as np\n",
    "import matplotlib.pyplot as plt\n",
    "import seaborn as sns\n"
   ]
  },
  {
   "cell_type": "code",
   "execution_count": 2,
   "id": "728f4d9e",
   "metadata": {},
   "outputs": [
    {
     "data": {
      "text/html": [
       "<div>\n",
       "<style scoped>\n",
       "    .dataframe tbody tr th:only-of-type {\n",
       "        vertical-align: middle;\n",
       "    }\n",
       "\n",
       "    .dataframe tbody tr th {\n",
       "        vertical-align: top;\n",
       "    }\n",
       "\n",
       "    .dataframe thead th {\n",
       "        text-align: right;\n",
       "    }\n",
       "</style>\n",
       "<table border=\"1\" class=\"dataframe\">\n",
       "  <thead>\n",
       "    <tr style=\"text-align: right;\">\n",
       "      <th></th>\n",
       "      <th>Sr. no.</th>\n",
       "      <th>Song Name</th>\n",
       "      <th>Movie</th>\n",
       "      <th>Year of release</th>\n",
       "      <th>Music director</th>\n",
       "      <th>Song type</th>\n",
       "      <th>Singer type</th>\n",
       "      <th>Singers</th>\n",
       "      <th>Youtube link</th>\n",
       "      <th>Audio Link</th>\n",
       "    </tr>\n",
       "  </thead>\n",
       "  <tbody>\n",
       "    <tr>\n",
       "      <th>0</th>\n",
       "      <td>1</td>\n",
       "      <td>Aachal ke tuze</td>\n",
       "      <td>Door gagan ki Chhao mein</td>\n",
       "      <td>1964</td>\n",
       "      <td>Kishor Kumar</td>\n",
       "      <td>solo</td>\n",
       "      <td>Male</td>\n",
       "      <td>Kishor Kumar</td>\n",
       "      <td>https://www.youtube.com/watch?v=V8vQxix0yyo</td>\n",
       "      <td>http://mymp3song.org/filedownload/42376/aa_cha...</td>\n",
       "    </tr>\n",
       "    <tr>\n",
       "      <th>1</th>\n",
       "      <td>2</td>\n",
       "      <td>AA Dekhe jara</td>\n",
       "      <td>Rocky</td>\n",
       "      <td>1981</td>\n",
       "      <td>R D Barman</td>\n",
       "      <td>Duet</td>\n",
       "      <td>Male&amp;Female</td>\n",
       "      <td>Kishor Kumar &amp; Asha Bhosale</td>\n",
       "      <td>https://www.youtube.com/watch?v=yCNbITasdqE</td>\n",
       "      <td>http://mymp3song.org/filedownload/12818/aa_dek...</td>\n",
       "    </tr>\n",
       "    <tr>\n",
       "      <th>2</th>\n",
       "      <td>3</td>\n",
       "      <td>Aadmi jo kaheta Hai</td>\n",
       "      <td>Majboor</td>\n",
       "      <td>1974</td>\n",
       "      <td>lakshmikant Pyarelal</td>\n",
       "      <td>solo</td>\n",
       "      <td>Male</td>\n",
       "      <td>Kishor Kumar</td>\n",
       "      <td>https://www.youtube.com/watch?v=-ArgZa-UsAM</td>\n",
       "      <td>http://mymp3song.org/filedownload/10599/aadmi_...</td>\n",
       "    </tr>\n",
       "    <tr>\n",
       "      <th>3</th>\n",
       "      <td>4</td>\n",
       "      <td>Aai Khuda Har faisala tera Muze Manjur hai</td>\n",
       "      <td>Abdullah</td>\n",
       "      <td>1980</td>\n",
       "      <td>R D Barman</td>\n",
       "      <td>solo</td>\n",
       "      <td>Male</td>\n",
       "      <td>Kishor Kumar</td>\n",
       "      <td>https://www.youtube.com/watch?v=SJFAls-GDrk</td>\n",
       "      <td>http://mymp3song.org/filedownload/12632/aai_kh...</td>\n",
       "    </tr>\n",
       "    <tr>\n",
       "      <th>4</th>\n",
       "      <td>5</td>\n",
       "      <td>Aaiye Shauk se Kahiye</td>\n",
       "      <td>Parvarish</td>\n",
       "      <td>1977</td>\n",
       "      <td>lakshmikant Pyarelal</td>\n",
       "      <td>Duet</td>\n",
       "      <td>Male&amp;Female</td>\n",
       "      <td>Kishor Kumar &amp; Asha Bhosale</td>\n",
       "      <td>https://www.youtube.com/watch?v=yaaoqmrY67s</td>\n",
       "      <td>http://mymp3song.org/filedownload/17891/aaiye_...</td>\n",
       "    </tr>\n",
       "    <tr>\n",
       "      <th>...</th>\n",
       "      <td>...</td>\n",
       "      <td>...</td>\n",
       "      <td>...</td>\n",
       "      <td>...</td>\n",
       "      <td>...</td>\n",
       "      <td>...</td>\n",
       "      <td>...</td>\n",
       "      <td>...</td>\n",
       "      <td>...</td>\n",
       "      <td>...</td>\n",
       "    </tr>\n",
       "    <tr>\n",
       "      <th>295</th>\n",
       "      <td>296</td>\n",
       "      <td>Hum Ko Nikaloge Ghar se</td>\n",
       "      <td>Chaila Babu</td>\n",
       "      <td>1977</td>\n",
       "      <td>laxmikant Pyarelal</td>\n",
       "      <td>Duet</td>\n",
       "      <td>Male&amp;Female</td>\n",
       "      <td>Kishor Kumar&amp; Asha Bhosale</td>\n",
       "      <td>https://www.youtube.com/watch?v=yeY5hwcrel0</td>\n",
       "      <td>http://mymp3song.org/filedownload/46013/hum_ko...</td>\n",
       "    </tr>\n",
       "    <tr>\n",
       "      <th>296</th>\n",
       "      <td>297</td>\n",
       "      <td>Hum Kya Hai</td>\n",
       "      <td>Anand Aur Anand</td>\n",
       "      <td>1984</td>\n",
       "      <td>R D Burman</td>\n",
       "      <td>Duet</td>\n",
       "      <td>Male&amp;Female</td>\n",
       "      <td>kishor Kumar&amp; Pinaz Masani</td>\n",
       "      <td>https://www.youtube.com/watch?v=0nQVoteHIro</td>\n",
       "      <td>http://mymp3song.org/filedownload/12281/hum_ky...</td>\n",
       "    </tr>\n",
       "    <tr>\n",
       "      <th>297</th>\n",
       "      <td>298</td>\n",
       "      <td>Hum Matawale Naujawan</td>\n",
       "      <td>Shararat</td>\n",
       "      <td>1959</td>\n",
       "      <td>Shankar Jaykishan</td>\n",
       "      <td>Solo</td>\n",
       "      <td>Male</td>\n",
       "      <td>Kishor Kumar</td>\n",
       "      <td>https://www.youtube.com/watch?v=ENC2bbnk-0w</td>\n",
       "      <td>http://mymp3song.org/filedownload/15636/hum_ma...</td>\n",
       "    </tr>\n",
       "    <tr>\n",
       "      <th>298</th>\n",
       "      <td>299</td>\n",
       "      <td>Hum Nahin Jhoomte hai</td>\n",
       "      <td>jani Dost</td>\n",
       "      <td>1983</td>\n",
       "      <td>Bappi Lahiri</td>\n",
       "      <td>Duet</td>\n",
       "      <td>Male&amp;Female</td>\n",
       "      <td>Kishor Kumar&amp; Asha Bhosale</td>\n",
       "      <td>https://www.youtube.com/watch?v=Xji96I9TQ3M</td>\n",
       "      <td>http://mymp3song.org/filedownload/44277/hum_na...</td>\n",
       "    </tr>\n",
       "    <tr>\n",
       "      <th>299</th>\n",
       "      <td>300</td>\n",
       "      <td>Hum PremiPrem karana jane</td>\n",
       "      <td>Paravarish</td>\n",
       "      <td>1977</td>\n",
       "      <td>laxmikant Pyarelal</td>\n",
       "      <td>Duet</td>\n",
       "      <td>male</td>\n",
       "      <td>Kishor Kumar&amp; Mahammad Rafi&amp; Shailendra Singh</td>\n",
       "      <td>https://www.youtube.com/watch?v=wrV1xiZF_Yw</td>\n",
       "      <td>http://mymp3song.org/filedownload/17888/hum_pr...</td>\n",
       "    </tr>\n",
       "  </tbody>\n",
       "</table>\n",
       "<p>300 rows × 10 columns</p>\n",
       "</div>"
      ],
      "text/plain": [
       "     Sr. no.                                    Song Name  \\\n",
       "0           1                              Aachal ke tuze   \n",
       "1           2                              AA Dekhe jara    \n",
       "2           3                         Aadmi jo kaheta Hai   \n",
       "3           4  Aai Khuda Har faisala tera Muze Manjur hai   \n",
       "4           5                       Aaiye Shauk se Kahiye   \n",
       "..        ...                                         ...   \n",
       "295       296                     Hum Ko Nikaloge Ghar se   \n",
       "296       297                                 Hum Kya Hai   \n",
       "297       298                       Hum Matawale Naujawan   \n",
       "298       299                       Hum Nahin Jhoomte hai   \n",
       "299       300                   Hum PremiPrem karana jane   \n",
       "\n",
       "                        Movie  Year of release        Music director  \\\n",
       "0    Door gagan ki Chhao mein             1964          Kishor Kumar   \n",
       "1                       Rocky             1981            R D Barman   \n",
       "2                     Majboor             1974  lakshmikant Pyarelal   \n",
       "3                    Abdullah             1980            R D Barman   \n",
       "4                   Parvarish             1977  lakshmikant Pyarelal   \n",
       "..                        ...              ...                   ...   \n",
       "295               Chaila Babu             1977    laxmikant Pyarelal   \n",
       "296          Anand Aur Anand              1984            R D Burman   \n",
       "297                  Shararat             1959     Shankar Jaykishan   \n",
       "298                 jani Dost             1983          Bappi Lahiri   \n",
       "299                Paravarish             1977    laxmikant Pyarelal   \n",
       "\n",
       "    Song type  Singer type                                        Singers  \\\n",
       "0        solo         Male                                   Kishor Kumar   \n",
       "1        Duet  Male&Female                    Kishor Kumar & Asha Bhosale   \n",
       "2        solo         Male                                   Kishor Kumar   \n",
       "3        solo         Male                                   Kishor Kumar   \n",
       "4        Duet  Male&Female                    Kishor Kumar & Asha Bhosale   \n",
       "..        ...          ...                                            ...   \n",
       "295      Duet  Male&Female                    Kishor Kumar& Asha Bhosale    \n",
       "296      Duet  Male&Female                     kishor Kumar& Pinaz Masani   \n",
       "297      Solo         Male                                   Kishor Kumar   \n",
       "298      Duet  Male&Female                    Kishor Kumar& Asha Bhosale    \n",
       "299      Duet         male  Kishor Kumar& Mahammad Rafi& Shailendra Singh   \n",
       "\n",
       "                                    Youtube link  \\\n",
       "0    https://www.youtube.com/watch?v=V8vQxix0yyo   \n",
       "1    https://www.youtube.com/watch?v=yCNbITasdqE   \n",
       "2    https://www.youtube.com/watch?v=-ArgZa-UsAM   \n",
       "3    https://www.youtube.com/watch?v=SJFAls-GDrk   \n",
       "4    https://www.youtube.com/watch?v=yaaoqmrY67s   \n",
       "..                                           ...   \n",
       "295  https://www.youtube.com/watch?v=yeY5hwcrel0   \n",
       "296  https://www.youtube.com/watch?v=0nQVoteHIro   \n",
       "297  https://www.youtube.com/watch?v=ENC2bbnk-0w   \n",
       "298  https://www.youtube.com/watch?v=Xji96I9TQ3M   \n",
       "299  https://www.youtube.com/watch?v=wrV1xiZF_Yw   \n",
       "\n",
       "                                            Audio Link  \n",
       "0    http://mymp3song.org/filedownload/42376/aa_cha...  \n",
       "1    http://mymp3song.org/filedownload/12818/aa_dek...  \n",
       "2    http://mymp3song.org/filedownload/10599/aadmi_...  \n",
       "3    http://mymp3song.org/filedownload/12632/aai_kh...  \n",
       "4    http://mymp3song.org/filedownload/17891/aaiye_...  \n",
       "..                                                 ...  \n",
       "295  http://mymp3song.org/filedownload/46013/hum_ko...  \n",
       "296  http://mymp3song.org/filedownload/12281/hum_ky...  \n",
       "297  http://mymp3song.org/filedownload/15636/hum_ma...  \n",
       "298  http://mymp3song.org/filedownload/44277/hum_na...  \n",
       "299  http://mymp3song.org/filedownload/17888/hum_pr...  \n",
       "\n",
       "[300 rows x 10 columns]"
      ]
     },
     "execution_count": 2,
     "metadata": {},
     "output_type": "execute_result"
    }
   ],
   "source": [
    "#for read csv file\n",
    "Music=pd.read_csv(\"music 2.csv\")\n",
    "Music"
   ]
  },
  {
   "cell_type": "markdown",
   "id": "d8d2d64d",
   "metadata": {},
   "source": [
    "# Data preprocessing"
   ]
  },
  {
   "cell_type": "code",
   "execution_count": 3,
   "id": "8199addf",
   "metadata": {},
   "outputs": [],
   "source": [
    "#drop Audio link columns \n",
    "Music=Music.drop(['Audio Link'], axis=1)"
   ]
  },
  {
   "cell_type": "code",
   "execution_count": 4,
   "id": "b4bc6c7f",
   "metadata": {},
   "outputs": [
    {
     "name": "stdout",
     "output_type": "stream",
     "text": [
      "<class 'pandas.core.frame.DataFrame'>\n",
      "RangeIndex: 300 entries, 0 to 299\n",
      "Data columns (total 9 columns):\n",
      " #   Column           Non-Null Count  Dtype \n",
      "---  ------           --------------  ----- \n",
      " 0   Sr. no.          300 non-null    int64 \n",
      " 1   Song Name        300 non-null    object\n",
      " 2   Movie            300 non-null    object\n",
      " 3   Year of release  300 non-null    int64 \n",
      " 4   Music director   300 non-null    object\n",
      " 5   Song type        300 non-null    object\n",
      " 6   Singer type      300 non-null    object\n",
      " 7   Singers          300 non-null    object\n",
      " 8   Youtube link     300 non-null    object\n",
      "dtypes: int64(2), object(7)\n",
      "memory usage: 21.2+ KB\n"
     ]
    }
   ],
   "source": [
    "#Dataset information\n",
    "Music.info()"
   ]
  },
  {
   "cell_type": "code",
   "execution_count": 5,
   "id": "065abe1a",
   "metadata": {},
   "outputs": [
    {
     "data": {
      "text/plain": [
       "Sr. no.            0\n",
       "Song Name          0\n",
       "Movie              0\n",
       "Year of release    0\n",
       "Music director     0\n",
       "Song type          0\n",
       "Singer type        0\n",
       "Singers            0\n",
       "Youtube link       0\n",
       "dtype: int64"
      ]
     },
     "execution_count": 5,
     "metadata": {},
     "output_type": "execute_result"
    }
   ],
   "source": [
    "#find null value\n",
    "Music.isnull().sum()"
   ]
  },
  {
   "cell_type": "code",
   "execution_count": 6,
   "id": "dfb303f9",
   "metadata": {},
   "outputs": [
    {
     "data": {
      "text/html": [
       "<div>\n",
       "<style scoped>\n",
       "    .dataframe tbody tr th:only-of-type {\n",
       "        vertical-align: middle;\n",
       "    }\n",
       "\n",
       "    .dataframe tbody tr th {\n",
       "        vertical-align: top;\n",
       "    }\n",
       "\n",
       "    .dataframe thead th {\n",
       "        text-align: right;\n",
       "    }\n",
       "</style>\n",
       "<table border=\"1\" class=\"dataframe\">\n",
       "  <thead>\n",
       "    <tr style=\"text-align: right;\">\n",
       "      <th></th>\n",
       "      <th>Sr. no.</th>\n",
       "      <th>Song Name</th>\n",
       "      <th>Movie</th>\n",
       "      <th>Year of release</th>\n",
       "      <th>Music director</th>\n",
       "      <th>Song type</th>\n",
       "      <th>Singer type</th>\n",
       "      <th>Singers</th>\n",
       "      <th>Youtube link</th>\n",
       "    </tr>\n",
       "  </thead>\n",
       "  <tbody>\n",
       "    <tr>\n",
       "      <th>0</th>\n",
       "      <td>1</td>\n",
       "      <td>Aachal ke tuze</td>\n",
       "      <td>Door gagan ki Chhao mein</td>\n",
       "      <td>1964</td>\n",
       "      <td>Kishor Kumar</td>\n",
       "      <td>solo</td>\n",
       "      <td>Male</td>\n",
       "      <td>Kishor Kumar</td>\n",
       "      <td>https://www.youtube.com/watch?v=V8vQxix0yyo</td>\n",
       "    </tr>\n",
       "    <tr>\n",
       "      <th>1</th>\n",
       "      <td>2</td>\n",
       "      <td>AA Dekhe jara</td>\n",
       "      <td>Rocky</td>\n",
       "      <td>1981</td>\n",
       "      <td>R D Barman</td>\n",
       "      <td>Duet</td>\n",
       "      <td>Male&amp;Female</td>\n",
       "      <td>Kishor Kumar &amp; Asha Bhosale</td>\n",
       "      <td>https://www.youtube.com/watch?v=yCNbITasdqE</td>\n",
       "    </tr>\n",
       "    <tr>\n",
       "      <th>2</th>\n",
       "      <td>3</td>\n",
       "      <td>Aadmi jo kaheta Hai</td>\n",
       "      <td>Majboor</td>\n",
       "      <td>1974</td>\n",
       "      <td>lakshmikant Pyarelal</td>\n",
       "      <td>solo</td>\n",
       "      <td>Male</td>\n",
       "      <td>Kishor Kumar</td>\n",
       "      <td>https://www.youtube.com/watch?v=-ArgZa-UsAM</td>\n",
       "    </tr>\n",
       "    <tr>\n",
       "      <th>3</th>\n",
       "      <td>4</td>\n",
       "      <td>Aai Khuda Har faisala tera Muze Manjur hai</td>\n",
       "      <td>Abdullah</td>\n",
       "      <td>1980</td>\n",
       "      <td>R D Barman</td>\n",
       "      <td>solo</td>\n",
       "      <td>Male</td>\n",
       "      <td>Kishor Kumar</td>\n",
       "      <td>https://www.youtube.com/watch?v=SJFAls-GDrk</td>\n",
       "    </tr>\n",
       "    <tr>\n",
       "      <th>4</th>\n",
       "      <td>5</td>\n",
       "      <td>Aaiye Shauk se Kahiye</td>\n",
       "      <td>Parvarish</td>\n",
       "      <td>1977</td>\n",
       "      <td>lakshmikant Pyarelal</td>\n",
       "      <td>Duet</td>\n",
       "      <td>Male&amp;Female</td>\n",
       "      <td>Kishor Kumar &amp; Asha Bhosale</td>\n",
       "      <td>https://www.youtube.com/watch?v=yaaoqmrY67s</td>\n",
       "    </tr>\n",
       "  </tbody>\n",
       "</table>\n",
       "</div>"
      ],
      "text/plain": [
       "   Sr. no.                                    Song Name  \\\n",
       "0         1                              Aachal ke tuze   \n",
       "1         2                              AA Dekhe jara    \n",
       "2         3                         Aadmi jo kaheta Hai   \n",
       "3         4  Aai Khuda Har faisala tera Muze Manjur hai   \n",
       "4         5                       Aaiye Shauk se Kahiye   \n",
       "\n",
       "                      Movie  Year of release        Music director Song type  \\\n",
       "0  Door gagan ki Chhao mein             1964          Kishor Kumar      solo   \n",
       "1                     Rocky             1981            R D Barman      Duet   \n",
       "2                   Majboor             1974  lakshmikant Pyarelal      solo   \n",
       "3                  Abdullah             1980            R D Barman      solo   \n",
       "4                 Parvarish             1977  lakshmikant Pyarelal      Duet   \n",
       "\n",
       "   Singer type                      Singers  \\\n",
       "0         Male                 Kishor Kumar   \n",
       "1  Male&Female  Kishor Kumar & Asha Bhosale   \n",
       "2         Male                 Kishor Kumar   \n",
       "3         Male                 Kishor Kumar   \n",
       "4  Male&Female  Kishor Kumar & Asha Bhosale   \n",
       "\n",
       "                                  Youtube link  \n",
       "0  https://www.youtube.com/watch?v=V8vQxix0yyo  \n",
       "1  https://www.youtube.com/watch?v=yCNbITasdqE  \n",
       "2  https://www.youtube.com/watch?v=-ArgZa-UsAM  \n",
       "3  https://www.youtube.com/watch?v=SJFAls-GDrk  \n",
       "4  https://www.youtube.com/watch?v=yaaoqmrY67s  "
      ]
     },
     "execution_count": 6,
     "metadata": {},
     "output_type": "execute_result"
    }
   ],
   "source": [
    "Music.head()"
   ]
  },
  {
   "cell_type": "code",
   "execution_count": 7,
   "id": "9e42fe0b",
   "metadata": {},
   "outputs": [
    {
     "data": {
      "text/plain": [
       "Index(['Sr. no. ', 'Song Name', 'Movie', 'Year of release', 'Music director',\n",
       "       'Song type', 'Singer type', 'Singers', 'Youtube link'],\n",
       "      dtype='object')"
      ]
     },
     "execution_count": 7,
     "metadata": {},
     "output_type": "execute_result"
    }
   ],
   "source": [
    "Music.columns"
   ]
  },
  {
   "cell_type": "code",
   "execution_count": 8,
   "id": "18188363",
   "metadata": {},
   "outputs": [],
   "source": [
    "#create new columns \"tags\"\n",
    "Music['tags'] = Music['Movie']+Music['Music director']+Music['Song type']+Music['Singer type']+Music['Singers']"
   ]
  },
  {
   "cell_type": "code",
   "execution_count": 9,
   "id": "ddc9507d",
   "metadata": {},
   "outputs": [
    {
     "data": {
      "text/html": [
       "<div>\n",
       "<style scoped>\n",
       "    .dataframe tbody tr th:only-of-type {\n",
       "        vertical-align: middle;\n",
       "    }\n",
       "\n",
       "    .dataframe tbody tr th {\n",
       "        vertical-align: top;\n",
       "    }\n",
       "\n",
       "    .dataframe thead th {\n",
       "        text-align: right;\n",
       "    }\n",
       "</style>\n",
       "<table border=\"1\" class=\"dataframe\">\n",
       "  <thead>\n",
       "    <tr style=\"text-align: right;\">\n",
       "      <th></th>\n",
       "      <th>Sr. no.</th>\n",
       "      <th>Song Name</th>\n",
       "      <th>Movie</th>\n",
       "      <th>Year of release</th>\n",
       "      <th>Music director</th>\n",
       "      <th>Song type</th>\n",
       "      <th>Singer type</th>\n",
       "      <th>Singers</th>\n",
       "      <th>Youtube link</th>\n",
       "      <th>tags</th>\n",
       "    </tr>\n",
       "  </thead>\n",
       "  <tbody>\n",
       "    <tr>\n",
       "      <th>0</th>\n",
       "      <td>1</td>\n",
       "      <td>Aachal ke tuze</td>\n",
       "      <td>Door gagan ki Chhao mein</td>\n",
       "      <td>1964</td>\n",
       "      <td>Kishor Kumar</td>\n",
       "      <td>solo</td>\n",
       "      <td>Male</td>\n",
       "      <td>Kishor Kumar</td>\n",
       "      <td>https://www.youtube.com/watch?v=V8vQxix0yyo</td>\n",
       "      <td>Door gagan ki Chhao meinKishor KumarsoloMaleKi...</td>\n",
       "    </tr>\n",
       "    <tr>\n",
       "      <th>1</th>\n",
       "      <td>2</td>\n",
       "      <td>AA Dekhe jara</td>\n",
       "      <td>Rocky</td>\n",
       "      <td>1981</td>\n",
       "      <td>R D Barman</td>\n",
       "      <td>Duet</td>\n",
       "      <td>Male&amp;Female</td>\n",
       "      <td>Kishor Kumar &amp; Asha Bhosale</td>\n",
       "      <td>https://www.youtube.com/watch?v=yCNbITasdqE</td>\n",
       "      <td>RockyR D BarmanDuetMale&amp;FemaleKishor Kumar &amp; A...</td>\n",
       "    </tr>\n",
       "    <tr>\n",
       "      <th>2</th>\n",
       "      <td>3</td>\n",
       "      <td>Aadmi jo kaheta Hai</td>\n",
       "      <td>Majboor</td>\n",
       "      <td>1974</td>\n",
       "      <td>lakshmikant Pyarelal</td>\n",
       "      <td>solo</td>\n",
       "      <td>Male</td>\n",
       "      <td>Kishor Kumar</td>\n",
       "      <td>https://www.youtube.com/watch?v=-ArgZa-UsAM</td>\n",
       "      <td>Majboorlakshmikant PyarelalsoloMaleKishor Kumar</td>\n",
       "    </tr>\n",
       "    <tr>\n",
       "      <th>3</th>\n",
       "      <td>4</td>\n",
       "      <td>Aai Khuda Har faisala tera Muze Manjur hai</td>\n",
       "      <td>Abdullah</td>\n",
       "      <td>1980</td>\n",
       "      <td>R D Barman</td>\n",
       "      <td>solo</td>\n",
       "      <td>Male</td>\n",
       "      <td>Kishor Kumar</td>\n",
       "      <td>https://www.youtube.com/watch?v=SJFAls-GDrk</td>\n",
       "      <td>AbdullahR D BarmansoloMaleKishor Kumar</td>\n",
       "    </tr>\n",
       "    <tr>\n",
       "      <th>4</th>\n",
       "      <td>5</td>\n",
       "      <td>Aaiye Shauk se Kahiye</td>\n",
       "      <td>Parvarish</td>\n",
       "      <td>1977</td>\n",
       "      <td>lakshmikant Pyarelal</td>\n",
       "      <td>Duet</td>\n",
       "      <td>Male&amp;Female</td>\n",
       "      <td>Kishor Kumar &amp; Asha Bhosale</td>\n",
       "      <td>https://www.youtube.com/watch?v=yaaoqmrY67s</td>\n",
       "      <td>Parvarishlakshmikant PyarelalDuetMale&amp;FemaleKi...</td>\n",
       "    </tr>\n",
       "  </tbody>\n",
       "</table>\n",
       "</div>"
      ],
      "text/plain": [
       "   Sr. no.                                    Song Name  \\\n",
       "0         1                              Aachal ke tuze   \n",
       "1         2                              AA Dekhe jara    \n",
       "2         3                         Aadmi jo kaheta Hai   \n",
       "3         4  Aai Khuda Har faisala tera Muze Manjur hai   \n",
       "4         5                       Aaiye Shauk se Kahiye   \n",
       "\n",
       "                      Movie  Year of release        Music director Song type  \\\n",
       "0  Door gagan ki Chhao mein             1964          Kishor Kumar      solo   \n",
       "1                     Rocky             1981            R D Barman      Duet   \n",
       "2                   Majboor             1974  lakshmikant Pyarelal      solo   \n",
       "3                  Abdullah             1980            R D Barman      solo   \n",
       "4                 Parvarish             1977  lakshmikant Pyarelal      Duet   \n",
       "\n",
       "   Singer type                      Singers  \\\n",
       "0         Male                 Kishor Kumar   \n",
       "1  Male&Female  Kishor Kumar & Asha Bhosale   \n",
       "2         Male                 Kishor Kumar   \n",
       "3         Male                 Kishor Kumar   \n",
       "4  Male&Female  Kishor Kumar & Asha Bhosale   \n",
       "\n",
       "                                  Youtube link  \\\n",
       "0  https://www.youtube.com/watch?v=V8vQxix0yyo   \n",
       "1  https://www.youtube.com/watch?v=yCNbITasdqE   \n",
       "2  https://www.youtube.com/watch?v=-ArgZa-UsAM   \n",
       "3  https://www.youtube.com/watch?v=SJFAls-GDrk   \n",
       "4  https://www.youtube.com/watch?v=yaaoqmrY67s   \n",
       "\n",
       "                                                tags  \n",
       "0  Door gagan ki Chhao meinKishor KumarsoloMaleKi...  \n",
       "1  RockyR D BarmanDuetMale&FemaleKishor Kumar & A...  \n",
       "2    Majboorlakshmikant PyarelalsoloMaleKishor Kumar  \n",
       "3             AbdullahR D BarmansoloMaleKishor Kumar  \n",
       "4  Parvarishlakshmikant PyarelalDuetMale&FemaleKi...  "
      ]
     },
     "execution_count": 9,
     "metadata": {},
     "output_type": "execute_result"
    }
   ],
   "source": [
    "Music.head()"
   ]
  },
  {
   "cell_type": "code",
   "execution_count": 10,
   "id": "4cfb5623",
   "metadata": {},
   "outputs": [],
   "source": [
    "#drop columns\n",
    "new_Music = Music.drop(columns=['Movie','Music director','Song type','Singer type','Singers','Youtube link'])\n"
   ]
  },
  {
   "cell_type": "code",
   "execution_count": 12,
   "id": "f35913ef",
   "metadata": {},
   "outputs": [
    {
     "data": {
      "text/html": [
       "<div>\n",
       "<style scoped>\n",
       "    .dataframe tbody tr th:only-of-type {\n",
       "        vertical-align: middle;\n",
       "    }\n",
       "\n",
       "    .dataframe tbody tr th {\n",
       "        vertical-align: top;\n",
       "    }\n",
       "\n",
       "    .dataframe thead th {\n",
       "        text-align: right;\n",
       "    }\n",
       "</style>\n",
       "<table border=\"1\" class=\"dataframe\">\n",
       "  <thead>\n",
       "    <tr style=\"text-align: right;\">\n",
       "      <th></th>\n",
       "      <th>Sr. no.</th>\n",
       "      <th>Song Name</th>\n",
       "      <th>Year of release</th>\n",
       "      <th>tags</th>\n",
       "    </tr>\n",
       "  </thead>\n",
       "  <tbody>\n",
       "    <tr>\n",
       "      <th>0</th>\n",
       "      <td>1</td>\n",
       "      <td>Aachal ke tuze</td>\n",
       "      <td>1964</td>\n",
       "      <td>Door gagan ki Chhao meinKishor KumarsoloMaleKi...</td>\n",
       "    </tr>\n",
       "    <tr>\n",
       "      <th>1</th>\n",
       "      <td>2</td>\n",
       "      <td>AA Dekhe jara</td>\n",
       "      <td>1981</td>\n",
       "      <td>RockyR D BarmanDuetMale&amp;FemaleKishor Kumar &amp; A...</td>\n",
       "    </tr>\n",
       "    <tr>\n",
       "      <th>2</th>\n",
       "      <td>3</td>\n",
       "      <td>Aadmi jo kaheta Hai</td>\n",
       "      <td>1974</td>\n",
       "      <td>Majboorlakshmikant PyarelalsoloMaleKishor Kumar</td>\n",
       "    </tr>\n",
       "    <tr>\n",
       "      <th>3</th>\n",
       "      <td>4</td>\n",
       "      <td>Aai Khuda Har faisala tera Muze Manjur hai</td>\n",
       "      <td>1980</td>\n",
       "      <td>AbdullahR D BarmansoloMaleKishor Kumar</td>\n",
       "    </tr>\n",
       "    <tr>\n",
       "      <th>4</th>\n",
       "      <td>5</td>\n",
       "      <td>Aaiye Shauk se Kahiye</td>\n",
       "      <td>1977</td>\n",
       "      <td>Parvarishlakshmikant PyarelalDuetMale&amp;FemaleKi...</td>\n",
       "    </tr>\n",
       "  </tbody>\n",
       "</table>\n",
       "</div>"
      ],
      "text/plain": [
       "   Sr. no.                                    Song Name  Year of release  \\\n",
       "0         1                              Aachal ke tuze             1964   \n",
       "1         2                              AA Dekhe jara              1981   \n",
       "2         3                         Aadmi jo kaheta Hai             1974   \n",
       "3         4  Aai Khuda Har faisala tera Muze Manjur hai             1980   \n",
       "4         5                       Aaiye Shauk se Kahiye             1977   \n",
       "\n",
       "                                                tags  \n",
       "0  Door gagan ki Chhao meinKishor KumarsoloMaleKi...  \n",
       "1  RockyR D BarmanDuetMale&FemaleKishor Kumar & A...  \n",
       "2    Majboorlakshmikant PyarelalsoloMaleKishor Kumar  \n",
       "3             AbdullahR D BarmansoloMaleKishor Kumar  \n",
       "4  Parvarishlakshmikant PyarelalDuetMale&FemaleKi...  "
      ]
     },
     "execution_count": 12,
     "metadata": {},
     "output_type": "execute_result"
    }
   ],
   "source": [
    "new_Music.head() "
   ]
  },
  {
   "cell_type": "code",
   "execution_count": 13,
   "id": "67c9b30f",
   "metadata": {},
   "outputs": [
    {
     "data": {
      "text/plain": [
       "'Door gagan ki Chhao meinKishor KumarsoloMaleKishor Kumar'"
      ]
     },
     "execution_count": 13,
     "metadata": {},
     "output_type": "execute_result"
    }
   ],
   "source": [
    "#show one particular row\n",
    "new_Music['tags'][0]"
   ]
  },
  {
   "cell_type": "code",
   "execution_count": 14,
   "id": "0ea5a251",
   "metadata": {},
   "outputs": [
    {
     "data": {
      "text/plain": [
       "0      door gagan ki chhao meinkishor kumarsolomaleki...\n",
       "1      rockyr d barmanduetmale&femalekishor kumar & a...\n",
       "2        majboorlakshmikant pyarelalsolomalekishor kumar\n",
       "3                 abdullahr d barmansolomalekishor kumar\n",
       "4      parvarishlakshmikant pyarelalduetmale&femaleki...\n",
       "                             ...                        \n",
       "295    chaila babulaxmikant pyarelalduetmale&femaleki...\n",
       "296    anand aur anand r d burmanduetmale&femalekisho...\n",
       "297        shararatshankar jaykishansolomalekishor kumar\n",
       "298    jani dostbappi lahiriduetmale&femalekishor kum...\n",
       "299    paravarishlaxmikant pyarelalduetmalekishor kum...\n",
       "Name: tags, Length: 300, dtype: object"
      ]
     },
     "execution_count": 14,
     "metadata": {},
     "output_type": "execute_result"
    }
   ],
   "source": [
    "#convert lower case\n",
    "new_Music['tags'].apply(lambda x:x.lower())"
   ]
  },
  {
   "cell_type": "code",
   "execution_count": 15,
   "id": "aa456787",
   "metadata": {},
   "outputs": [],
   "source": [
    "new_Music['tags']=new_Music['tags'].apply(lambda x:x.lower())"
   ]
  },
  {
   "cell_type": "code",
   "execution_count": 16,
   "id": "71f24d65",
   "metadata": {},
   "outputs": [
    {
     "data": {
      "text/html": [
       "<div>\n",
       "<style scoped>\n",
       "    .dataframe tbody tr th:only-of-type {\n",
       "        vertical-align: middle;\n",
       "    }\n",
       "\n",
       "    .dataframe tbody tr th {\n",
       "        vertical-align: top;\n",
       "    }\n",
       "\n",
       "    .dataframe thead th {\n",
       "        text-align: right;\n",
       "    }\n",
       "</style>\n",
       "<table border=\"1\" class=\"dataframe\">\n",
       "  <thead>\n",
       "    <tr style=\"text-align: right;\">\n",
       "      <th></th>\n",
       "      <th>Sr. no.</th>\n",
       "      <th>Song Name</th>\n",
       "      <th>Year of release</th>\n",
       "      <th>tags</th>\n",
       "    </tr>\n",
       "  </thead>\n",
       "  <tbody>\n",
       "    <tr>\n",
       "      <th>0</th>\n",
       "      <td>1</td>\n",
       "      <td>Aachal ke tuze</td>\n",
       "      <td>1964</td>\n",
       "      <td>door gagan ki chhao meinkishor kumarsolomaleki...</td>\n",
       "    </tr>\n",
       "    <tr>\n",
       "      <th>1</th>\n",
       "      <td>2</td>\n",
       "      <td>AA Dekhe jara</td>\n",
       "      <td>1981</td>\n",
       "      <td>rockyr d barmanduetmale&amp;femalekishor kumar &amp; a...</td>\n",
       "    </tr>\n",
       "    <tr>\n",
       "      <th>2</th>\n",
       "      <td>3</td>\n",
       "      <td>Aadmi jo kaheta Hai</td>\n",
       "      <td>1974</td>\n",
       "      <td>majboorlakshmikant pyarelalsolomalekishor kumar</td>\n",
       "    </tr>\n",
       "    <tr>\n",
       "      <th>3</th>\n",
       "      <td>4</td>\n",
       "      <td>Aai Khuda Har faisala tera Muze Manjur hai</td>\n",
       "      <td>1980</td>\n",
       "      <td>abdullahr d barmansolomalekishor kumar</td>\n",
       "    </tr>\n",
       "    <tr>\n",
       "      <th>4</th>\n",
       "      <td>5</td>\n",
       "      <td>Aaiye Shauk se Kahiye</td>\n",
       "      <td>1977</td>\n",
       "      <td>parvarishlakshmikant pyarelalduetmale&amp;femaleki...</td>\n",
       "    </tr>\n",
       "  </tbody>\n",
       "</table>\n",
       "</div>"
      ],
      "text/plain": [
       "   Sr. no.                                    Song Name  Year of release  \\\n",
       "0         1                              Aachal ke tuze             1964   \n",
       "1         2                              AA Dekhe jara              1981   \n",
       "2         3                         Aadmi jo kaheta Hai             1974   \n",
       "3         4  Aai Khuda Har faisala tera Muze Manjur hai             1980   \n",
       "4         5                       Aaiye Shauk se Kahiye             1977   \n",
       "\n",
       "                                                tags  \n",
       "0  door gagan ki chhao meinkishor kumarsolomaleki...  \n",
       "1  rockyr d barmanduetmale&femalekishor kumar & a...  \n",
       "2    majboorlakshmikant pyarelalsolomalekishor kumar  \n",
       "3             abdullahr d barmansolomalekishor kumar  \n",
       "4  parvarishlakshmikant pyarelalduetmale&femaleki...  "
      ]
     },
     "execution_count": 16,
     "metadata": {},
     "output_type": "execute_result"
    }
   ],
   "source": [
    "#new data set is\n",
    "new_Music.head()"
   ]
  },
  {
   "cell_type": "markdown",
   "id": "3cd38d8f",
   "metadata": {},
   "source": [
    "# Adding Feature "
   ]
  },
  {
   "cell_type": "code",
   "execution_count": 17,
   "id": "67bcc307",
   "metadata": {},
   "outputs": [],
   "source": [
    "#add countvectorizer from sklearn\n",
    "from sklearn.feature_extraction.text import CountVectorizer"
   ]
  },
  {
   "cell_type": "code",
   "execution_count": 18,
   "id": "d413fce2",
   "metadata": {},
   "outputs": [],
   "source": [
    "cv=CountVectorizer(max_features=1000,stop_words='english')"
   ]
  },
  {
   "cell_type": "code",
   "execution_count": 19,
   "id": "d9aee372",
   "metadata": {},
   "outputs": [
    {
     "data": {
      "text/plain": [
       "array([[0, 0, 0, ..., 0, 0, 0],\n",
       "       [0, 0, 0, ..., 0, 0, 0],\n",
       "       [0, 0, 0, ..., 0, 0, 0],\n",
       "       ...,\n",
       "       [0, 0, 0, ..., 0, 0, 0],\n",
       "       [0, 0, 0, ..., 0, 0, 0],\n",
       "       [0, 0, 0, ..., 0, 0, 0]], dtype=int64)"
      ]
     },
     "execution_count": 19,
     "metadata": {},
     "output_type": "execute_result"
    }
   ],
   "source": [
    "#convert numpy array which CountVectorizer return\n",
    "vectors=cv.fit_transform(new_Music['tags'].values.astype('U')).toarray()\n",
    "vectors"
   ]
  },
  {
   "cell_type": "code",
   "execution_count": 20,
   "id": "cb4f5752",
   "metadata": {},
   "outputs": [
    {
     "data": {
      "text/plain": [
       "(300, 545)"
      ]
     },
     "execution_count": 20,
     "metadata": {},
     "output_type": "execute_result"
    }
   ],
   "source": [
    "#shape of the array\n",
    "cv.fit_transform(new_Music['tags']).toarray().shape"
   ]
  },
  {
   "cell_type": "code",
   "execution_count": 21,
   "id": "3eb8ec08",
   "metadata": {},
   "outputs": [],
   "source": [
    "#show first song in vector\n",
    "#vectors[0]"
   ]
  },
  {
   "cell_type": "code",
   "execution_count": 22,
   "id": "36e96a43",
   "metadata": {},
   "outputs": [
    {
     "name": "stderr",
     "output_type": "stream",
     "text": [
      "C:\\Users\\abirb\\anaconda3\\lib\\site-packages\\sklearn\\utils\\deprecation.py:87: FutureWarning: Function get_feature_names is deprecated; get_feature_names is deprecated in 1.0 and will be removed in 1.2. Please use get_feature_names_out instead.\n",
      "  warnings.warn(msg, category=FutureWarning)\n"
     ]
    },
    {
     "data": {
      "text/plain": [
       "545"
      ]
     },
     "execution_count": 22,
     "metadata": {},
     "output_type": "execute_result"
    }
   ],
   "source": [
    "len(cv.get_feature_names())"
   ]
  },
  {
   "cell_type": "code",
   "execution_count": 23,
   "id": "b7e0dd3a",
   "metadata": {},
   "outputs": [],
   "source": [
    "#add cosine_similarity feature from sklearn\n",
    "from sklearn.metrics.pairwise import cosine_similarity"
   ]
  },
  {
   "cell_type": "code",
   "execution_count": 24,
   "id": "52de0dc6",
   "metadata": {},
   "outputs": [
    {
     "data": {
      "text/plain": [
       "array([[1.        , 0.15430335, 0.21821789, ..., 0.21821789, 0.14285714,\n",
       "        0.14285714],\n",
       "       [0.15430335, 1.        , 0.23570226, ..., 0.23570226, 0.6172134 ,\n",
       "        0.15430335],\n",
       "       [0.21821789, 0.23570226, 1.        , ..., 0.33333333, 0.21821789,\n",
       "        0.21821789],\n",
       "       ...,\n",
       "       [0.21821789, 0.23570226, 0.33333333, ..., 1.        , 0.21821789,\n",
       "        0.21821789],\n",
       "       [0.14285714, 0.6172134 , 0.21821789, ..., 0.21821789, 1.        ,\n",
       "        0.14285714],\n",
       "       [0.14285714, 0.15430335, 0.21821789, ..., 0.21821789, 0.14285714,\n",
       "        1.        ]])"
      ]
     },
     "execution_count": 24,
     "metadata": {},
     "output_type": "execute_result"
    }
   ],
   "source": [
    "#distance between each vector\n",
    "similarity=cosine_similarity(vectors)\n",
    "similarity"
   ]
  },
  {
   "cell_type": "code",
   "execution_count": 25,
   "id": "a02965a7",
   "metadata": {},
   "outputs": [
    {
     "data": {
      "text/plain": [
       "(300, 300)"
      ]
     },
     "execution_count": 25,
     "metadata": {},
     "output_type": "execute_result"
    }
   ],
   "source": [
    "similarity.shape"
   ]
  },
  {
   "cell_type": "code",
   "execution_count": 26,
   "id": "7d323157",
   "metadata": {},
   "outputs": [
    {
     "data": {
      "text/plain": [
       "array([1.        , 0.15430335, 0.21821789, 0.21821789, 0.15430335,\n",
       "       0.21821789, 0.15430335, 0.14285714, 0.14285714, 0.18898224,\n",
       "       0.21821789, 0.11952286, 0.25197632, 0.15430335, 0.12598816,\n",
       "       0.21821789, 0.15430335, 0.14285714, 0.21821789, 0.22792115,\n",
       "       0.21821789, 0.15430335, 0.26726124, 0.13363062, 0.21821789,\n",
       "       0.14285714, 0.15430335, 0.21821789, 0.18898224, 0.15430335,\n",
       "       0.15430335, 0.13363062, 0.11952286, 0.18898224, 0.16903085,\n",
       "       0.14285714, 0.21821789, 0.21821789, 0.21821789, 0.12598816,\n",
       "       0.14285714, 0.15430335, 0.16903085, 0.15430335, 0.21821789,\n",
       "       0.15430335, 0.18898224, 0.18898224, 0.26726124, 0.15430335,\n",
       "       0.15430335, 0.18898224, 0.21821789, 0.14285714, 0.14285714,\n",
       "       0.15430335, 0.12598816, 0.13363062, 0.13363062, 0.13363062,\n",
       "       0.11952286, 0.13363062, 0.15430335, 0.18898224, 0.14285714,\n",
       "       0.16903085, 0.15430335, 0.16903085, 0.14285714, 0.13363062,\n",
       "       0.18898224, 0.15430335, 0.14285714, 0.16903085, 0.12598816,\n",
       "       0.15430335, 0.18898224, 0.14285714, 0.18898224, 0.15430335,\n",
       "       0.13363062, 0.13363062, 0.15430335, 0.15430335, 0.15430335,\n",
       "       0.14285714, 0.15430335, 0.13363062, 0.15430335, 0.15430335,\n",
       "       0.28571429, 0.21821789, 0.14285714, 0.15430335, 0.18898224,\n",
       "       0.18898224, 0.18898224, 0.16903085, 0.16903085, 0.15430335,\n",
       "       0.18898224, 0.15430335, 0.15430335, 0.15430335, 0.16903085,\n",
       "       0.13363062, 0.14285714, 0.16903085, 0.15430335, 0.25197632,\n",
       "       0.16903085, 0.14285714, 0.18898224, 0.13363062, 0.13363062,\n",
       "       0.14285714, 0.18898224, 0.18898224, 0.15430335, 0.14285714,\n",
       "       0.18898224, 0.14285714, 0.13363062, 0.15430335, 0.15430335,\n",
       "       0.18898224, 0.15430335, 0.18898224, 0.14285714, 0.16903085,\n",
       "       0.16903085, 0.15430335, 0.15430335, 0.11396058, 0.18898224,\n",
       "       0.18898224, 0.14285714, 0.12598816, 0.15430335, 0.18898224,\n",
       "       0.16903085, 0.16903085, 0.18898224, 0.15430335, 0.21821789,\n",
       "       0.15430335, 0.14285714, 0.18898224, 0.43643578, 0.15430335,\n",
       "       0.15430335, 0.14285714, 0.13363062, 0.15430335, 0.21821789,\n",
       "       0.16903085, 0.15430335, 0.15430335, 0.21821789, 0.18898224,\n",
       "       0.15430335, 0.15430335, 0.21821789, 0.18898224, 0.21821789,\n",
       "       0.12598816, 0.11396058, 0.21821789, 0.21821789, 0.18898224,\n",
       "       0.21821789, 0.16903085, 0.16903085, 0.15430335, 0.18898224,\n",
       "       0.21821789, 0.21821789, 0.15430335, 0.21821789, 0.12598816,\n",
       "       0.15430335, 0.13363062, 0.14285714, 0.12598816, 0.28571429,\n",
       "       0.15430335, 0.14285714, 0.13363062, 0.15430335, 0.13363062,\n",
       "       0.16903085, 0.14285714, 0.18898224, 0.14285714, 0.15430335,\n",
       "       0.18898224, 0.21821789, 0.18898224, 0.18898224, 0.18898224,\n",
       "       0.15430335, 0.18898224, 0.14285714, 0.37796447, 0.18898224,\n",
       "       0.13363062, 0.16903085, 0.13363062, 0.18898224, 0.43643578,\n",
       "       0.18898224, 0.15430335, 0.15430335, 0.15430335, 0.16903085,\n",
       "       0.15430335, 0.11952286, 0.13363062, 0.13363062, 0.15430335,\n",
       "       0.15430335, 0.13363062, 0.18898224, 0.15430335, 0.21821789,\n",
       "       0.14285714, 0.15430335, 0.14285714, 0.16903085, 0.21821789,\n",
       "       0.21821789, 0.18898224, 0.16903085, 0.12598816, 0.18898224,\n",
       "       0.21821789, 0.13363062, 0.14285714, 0.21821789, 0.18898224,\n",
       "       0.28571429, 0.25197632, 0.16903085, 0.18898224, 0.15430335,\n",
       "       0.21821789, 0.21821789, 0.21821789, 0.18898224, 0.15430335,\n",
       "       0.16903085, 0.18898224, 0.15430335, 0.18898224, 0.37796447,\n",
       "       0.18898224, 0.14285714, 0.15430335, 0.15430335, 0.15430335,\n",
       "       0.3086067 , 0.15430335, 0.18898224, 0.16903085, 0.14285714,\n",
       "       0.13363062, 0.15430335, 0.15430335, 0.13363062, 0.13363062,\n",
       "       0.18898224, 0.15430335, 0.15430335, 0.15430335, 0.14285714,\n",
       "       0.14285714, 0.14285714, 0.13363062, 0.12598816, 0.15430335,\n",
       "       0.14285714, 0.18898224, 0.15430335, 0.14285714, 0.21821789,\n",
       "       0.21821789, 0.14285714, 0.21821789, 0.15430335, 0.15430335,\n",
       "       0.13363062, 0.18898224, 0.12598816, 0.21821789, 0.26726124,\n",
       "       0.14285714, 0.11952286, 0.21821789, 0.14285714, 0.14285714])"
      ]
     },
     "execution_count": 26,
     "metadata": {},
     "output_type": "execute_result"
    }
   ],
   "source": [
    "#similarity between 1st song to each song\n",
    "similarity[0 ]"
   ]
  },
  {
   "cell_type": "code",
   "execution_count": 27,
   "id": "e444dabb",
   "metadata": {},
   "outputs": [],
   "source": [
    "#sorted(list(enumerate(similarity[0])),reverse=True,key =lambda vectors:vectors[1])"
   ]
  },
  {
   "cell_type": "code",
   "execution_count": 28,
   "id": "66835e8c",
   "metadata": {},
   "outputs": [
    {
     "name": "stdout",
     "output_type": "stream",
     "text": [
      "(0, 0.9999999999999998)\n",
      "(148, 0.4364357804719848)\n",
      "(209, 0.4364357804719848)\n",
      "(203, 0.3779644730092272)\n",
      "(254, 0.3779644730092272)\n"
     ]
    }
   ],
   "source": [
    "distance = sorted(list(enumerate(similarity[0])),reverse=True,key =lambda vectors:vectors[1])\n",
    "for i in distance[0:5]:\n",
    "    print(i)"
   ]
  },
  {
   "cell_type": "code",
   "execution_count": 29,
   "id": "f9eab333",
   "metadata": {},
   "outputs": [
    {
     "name": "stdout",
     "output_type": "stream",
     "text": [
      "Sr. no.                                                            1\n",
      "Song Name                                             Aachal ke tuze\n",
      "Year of release                                                 1964\n",
      "tags               door gagan ki chhao meinkishor kumarsolomaleki...\n",
      "Name: 0, dtype: object\n",
      "Sr. no.                                                149\n",
      "Song Name                         Dhoondha Tujhe Lakhon Me\n",
      "Year of release                                       1971\n",
      "tags               putalibaijai kumarsolomalekishor kumar \n",
      "Name: 148, dtype: object\n",
      "Sr. no.                                                210\n",
      "Song Name              Ge Ge Geli Zara Timbaktu Kathamandu\n",
      "Year of release                                       1961\n",
      "tags               jhomrookishor kumarsolomalekishor kumar\n",
      "Name: 209, dtype: object\n",
      "Sr. no.                                                  204\n",
      "Song Name                                       Gana Na Aaya\n",
      "Year of release                                         1957\n",
      "tags               miss maryhemant kumarsolomalekishor kumar\n",
      "Name: 203, dtype: object\n",
      "Sr. no.                                                     255\n",
      "Song Name                                    Hawaaon Pe Likh Do\n",
      "Year of release                                            1968\n",
      "tags               do duni charhemant kumarsolomalekishor kumar\n",
      "Name: 254, dtype: object\n"
     ]
    }
   ],
   "source": [
    "distance = sorted(list(enumerate(similarity[0])),reverse=True,key =lambda vectors:vectors[1])\n",
    "for i in distance[0:5]:\n",
    "    print(new_Music.iloc[i[0]])"
   ]
  },
  {
   "cell_type": "code",
   "execution_count": 30,
   "id": "22becfe8",
   "metadata": {},
   "outputs": [],
   "source": [
    "#change Song Name columns\n",
    "new_Music = new_Music.rename(columns={'Song Name': 'SongName'})"
   ]
  },
  {
   "cell_type": "code",
   "execution_count": 31,
   "id": "20e84042",
   "metadata": {},
   "outputs": [
    {
     "data": {
      "text/plain": [
       "Sr. no.                                                           35\n",
       "SongName                                         Andheri raaton mein\n",
       "Year of release                                                 1988\n",
       "tags               shahenshahutpal biswas/amar biswassolomalekish...\n",
       "Name: 34, dtype: object"
      ]
     },
     "execution_count": 31,
     "metadata": {},
     "output_type": "execute_result"
    }
   ],
   "source": [
    "new_Music.iloc[34]"
   ]
  },
  {
   "cell_type": "code",
   "execution_count": 32,
   "id": "23740725",
   "metadata": {},
   "outputs": [],
   "source": [
    "#create recommend function sorting for more similar song\n",
    "def recommend(Music):\n",
    "    index=new_Music[new_Music['SongName']==Music].index[0]\n",
    "    distance = sorted(list(enumerate(similarity[index])),reverse=True, key=lambda vectors:vectors[1])\n",
    "    for i in distance[0:5]:\n",
    "        print(new_Music.iloc[i[0]].SongName)"
   ]
  },
  {
   "cell_type": "markdown",
   "id": "c8d6ccae",
   "metadata": {},
   "source": [
    "# Output"
   ]
  },
  {
   "cell_type": "code",
   "execution_count": 33,
   "id": "e4f8e921",
   "metadata": {},
   "outputs": [
    {
     "name": "stdout",
     "output_type": "stream",
     "text": [
      "Aadmi jo kaheta Hai\n",
      "Aap ke anurodh pe mai ye git\n",
      "Aate jate Khoob Surat Aawara\n",
      "Bahoot Khoobsurat Jawan Ek Ladki\n",
      "Dilwale Aaye Hai\n"
     ]
    }
   ],
   "source": [
    "\n",
    "recommend(\"Aadmi jo kaheta Hai\")"
   ]
  },
  {
   "cell_type": "code",
   "execution_count": 34,
   "id": "dba91f58",
   "metadata": {},
   "outputs": [
    {
     "name": "stdout",
     "output_type": "stream",
     "text": [
      "Hum PremiPrem karana jane\n",
      "Ek  Rasta Do Rahi\n",
      "Chal Shuru Ho Ja\n",
      "Hey Babu Yeh hai Jamana\n",
      "Ban Gaya Buddha Sharabi\n"
     ]
    }
   ],
   "source": [
    "recommend(\"Hum PremiPrem karana jane\")"
   ]
  },
  {
   "cell_type": "code",
   "execution_count": 35,
   "id": "0d513c83",
   "metadata": {},
   "outputs": [
    {
     "name": "stdout",
     "output_type": "stream",
     "text": [
      "Hum Kya Hai\n",
      "Gata Rahe Mera dil\n",
      "Ghere Halke Halke Ghere\n",
      "Gir Gaya Zumka Girne Do\n",
      "Gulmoharr Gar Tumhara Nam Hota\n"
     ]
    }
   ],
   "source": [
    "recommend(\"Hum Kya Hai\")"
   ]
  },
  {
   "cell_type": "code",
   "execution_count": null,
   "id": "03806438",
   "metadata": {},
   "outputs": [],
   "source": []
  }
 ],
 "metadata": {
  "kernelspec": {
   "display_name": "Python 3 (ipykernel)",
   "language": "python",
   "name": "python3"
  },
  "language_info": {
   "codemirror_mode": {
    "name": "ipython",
    "version": 3
   },
   "file_extension": ".py",
   "mimetype": "text/x-python",
   "name": "python",
   "nbconvert_exporter": "python",
   "pygments_lexer": "ipython3",
   "version": "3.9.13"
  }
 },
 "nbformat": 4,
 "nbformat_minor": 5
}
